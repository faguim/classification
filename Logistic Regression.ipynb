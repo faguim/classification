{
 "cells": [
  {
   "cell_type": "code",
   "execution_count": 1,
   "metadata": {
    "collapsed": true
   },
   "outputs": [],
   "source": [
    "%matplotlib inline\n",
    "import matplotlib\n",
    "import matplotlib.pyplot as plt\n",
    "import numpy as np\n",
    "\n",
    "import pickle\n",
    "\n",
    "from sklearn.linear_model import SGDClassifier\n",
    "from sklearn.model_selection import cross_val_score, cross_val_predict, StratifiedKFold\n",
    "from sklearn.metrics import confusion_matrix, precision_score, recall_score, f1_score\n",
    "\n",
    "from sklearn.base import clone"
   ]
  },
  {
   "cell_type": "code",
   "execution_count": 2,
   "metadata": {
    "collapsed": true
   },
   "outputs": [],
   "source": [
    "DATASET_PATH = \"dataset/\""
   ]
  },
  {
   "cell_type": "code",
   "execution_count": 3,
   "metadata": {
    "collapsed": true
   },
   "outputs": [],
   "source": [
    "def unpickle(file):\n",
    "    with open(file, 'rb') as fo:\n",
    "        dict = pickle.load(fo, encoding='bytes')\n",
    "    return dict"
   ]
  },
  {
   "cell_type": "code",
   "execution_count": 4,
   "metadata": {},
   "outputs": [],
   "source": [
    "# X_train = np.ndarray(shape=(1000,3072))\n",
    "# print(X_train.shape)\n",
    "# y_train = np.array([])\n",
    "\n",
    "\n",
    "for i in range(1,6):\n",
    "    data_batch = unpickle(DATASET_PATH + 'data_batch_'+str(i))\n",
    "\n",
    "    if i==1:\n",
    "        X_train = data_batch[b'data']\n",
    "        y_train = np.asarray(data_batch[b'labels'])\n",
    "    else: \n",
    "        X_train = np.append(X_train, data_batch[b'data'], axis=0)\n",
    "        y_train = np.append(y_train, np.asarray(data_batch[b'labels']))\n",
    "\n",
    "# shuffle_index = np.random.permutation(9000)\n",
    "# X_train, y_train = X_train[shuffle_index], y_train[shuffle_index]"
   ]
  },
  {
   "cell_type": "code",
   "execution_count": 5,
   "metadata": {},
   "outputs": [],
   "source": [
    "precision_list = list()\n",
    "recall_list = list()\n",
    "f1_list = list()\n",
    "\n",
    "skfolds = StratifiedKFold(n_splits=3, random_state=42)\n",
    "\n",
    "sgd_clf = SGDClassifier(random_state=42)\n",
    "\n",
    "for train_index, test_index in skfolds.split(X_train, y_train):\n",
    "    clone_clf = clone(sgd_clf)\n",
    "    X_train_folds = X_train[train_index]\n",
    "    y_train_folds = (y_train[train_index])\n",
    "    X_test_fold = X_train[test_index]\n",
    "    y_test_fold = (y_train[test_index])\n",
    "    \n",
    "    clone_clf.fit(X_train_folds, y_train_folds)\n",
    "    y_pred = clone_clf.predict(X_test_fold)\n",
    "    n_correct = sum(y_pred == y_test_fold)\n",
    "    \n",
    "    precision_list.append(precision_score(y_test_fold, y_pred, average=None))\n",
    "    recall_list.append(recall_score(y_test_fold, y_pred, average=None))\n",
    "    f1_list.append(f1_score(y_test_fold, y_pred, average=None))"
   ]
  },
  {
   "cell_type": "code",
   "execution_count": 6,
   "metadata": {},
   "outputs": [
    {
     "name": "stdout",
     "output_type": "stream",
     "text": [
      "precision [ 0.32333872  0.67629835  0.29987558  0.24319235  0.38456332  0.07928618\n",
      "  0.27522313  0.41473659  0.55113511  0.52588269]\n",
      "recall [ 0.05760841  0.11118641  0.0144      0.14065518  0.02799872  0.5824835\n",
      "  0.46706385  0.12877485  0.03359568  0.12960097]\n",
      "f1 [ 0.09713944  0.15870399  0.02691202  0.08250934  0.04940836  0.13881346\n",
      "  0.2269813   0.1241773   0.06174058  0.20409159]\n"
     ]
    }
   ],
   "source": [
    "def display_scores(measure, scores):\n",
    "    print(measure, sum(scores)/float(len(scores)))\n",
    "    \n",
    "display_scores(\"precision\", precision_list)\n",
    "display_scores(\"recall\", recall_list)\n",
    "display_scores(\"f1\", f1_list)"
   ]
  }
 ],
 "metadata": {
  "kernelspec": {
   "display_name": "Python 3",
   "language": "python",
   "name": "python3"
  },
  "language_info": {
   "codemirror_mode": {
    "name": "ipython",
    "version": 3
   },
   "file_extension": ".py",
   "mimetype": "text/x-python",
   "name": "python",
   "nbconvert_exporter": "python",
   "pygments_lexer": "ipython3",
   "version": "3.6.1"
  },
  "toc": {
   "colors": {
    "hover_highlight": "#DAA520",
    "navigate_num": "#000000",
    "navigate_text": "#333333",
    "running_highlight": "#FF0000",
    "selected_highlight": "#FFD700",
    "sidebar_border": "#EEEEEE",
    "wrapper_background": "#FFFFFF"
   },
   "moveMenuLeft": true,
   "nav_menu": {
    "height": "12px",
    "width": "252px"
   },
   "navigate_menu": true,
   "number_sections": true,
   "sideBar": true,
   "threshold": 4,
   "toc_cell": false,
   "toc_section_display": "block",
   "toc_window_display": false,
   "widenNotebook": false
  }
 },
 "nbformat": 4,
 "nbformat_minor": 2
}
